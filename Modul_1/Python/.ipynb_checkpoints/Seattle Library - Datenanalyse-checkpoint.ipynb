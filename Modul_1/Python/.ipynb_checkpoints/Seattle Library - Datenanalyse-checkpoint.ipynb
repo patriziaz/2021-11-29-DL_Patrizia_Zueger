{
 "cells": [
  {
   "cell_type": "markdown",
   "id": "39db636b",
   "metadata": {},
   "source": [
    "# Seattle Library - Datenanalyse\n",
    "\n",
    "Datasets:\n",
    "- Checkouts by title: https://dev.socrata.com/foundry/data.seattle.gov/tmmm-ytt6\n",
    "- Library Collection Inventory: https://data.seattle.gov/Community/Library-Collection-Inventory/6vkj-f5xf\n",
    "\n",
    "API-dokumenation:\n",
    "\n",
    "- Paging through Data https://dev.socrata.com/docs/queries/\n",
    "- Queries using SODA https://dev.socrata.com/docs/paging.html\n"
   ]
  },
  {
   "cell_type": "code",
   "execution_count": 1,
   "id": "a59d9cf7",
   "metadata": {},
   "outputs": [],
   "source": [
    "import urllib.request\n",
    "import pandas as pd"
   ]
  },
  {
   "cell_type": "markdown",
   "id": "1b94751a",
   "metadata": {},
   "source": [
    "### Checkout-Daten über die API beziehen und als CSV-Datei speichern"
   ]
  },
  {
   "cell_type": "code",
   "execution_count": 2,
   "id": "fc45a2ac",
   "metadata": {},
   "outputs": [
    {
     "data": {
      "text/plain": [
       "('checkout.csv', <http.client.HTTPMessage at 0x7f87ff729730>)"
      ]
     },
     "execution_count": 2,
     "metadata": {},
     "output_type": "execute_result"
    }
   ],
   "source": [
    "url = \"https://data.seattle.gov/resource/tmmm-ytt6.csv?$where=checkoutyear>2018&checkoutmonth=4&$limit=10000000\"\n",
    "checkout_file = \"checkout.csv\"\n",
    "urllib.request.urlretrieve(url, checkout_file)"
   ]
  },
  {
   "cell_type": "markdown",
   "id": "c8d04b96",
   "metadata": {},
   "source": [
    "### In einen DataFrame laden und analysieren"
   ]
  },
  {
   "cell_type": "code",
   "execution_count": 3,
   "id": "3603f017",
   "metadata": {},
   "outputs": [],
   "source": [
    "checkouts_df = pd.read_csv(checkout_file)"
   ]
  },
  {
   "cell_type": "code",
   "execution_count": 4,
   "id": "48a36408",
   "metadata": {},
   "outputs": [
    {
     "data": {
      "text/html": [
       "<div>\n",
       "<style scoped>\n",
       "    .dataframe tbody tr th:only-of-type {\n",
       "        vertical-align: middle;\n",
       "    }\n",
       "\n",
       "    .dataframe tbody tr th {\n",
       "        vertical-align: top;\n",
       "    }\n",
       "\n",
       "    .dataframe thead th {\n",
       "        text-align: right;\n",
       "    }\n",
       "</style>\n",
       "<table border=\"1\" class=\"dataframe\">\n",
       "  <thead>\n",
       "    <tr style=\"text-align: right;\">\n",
       "      <th></th>\n",
       "      <th>usageclass</th>\n",
       "      <th>checkouttype</th>\n",
       "      <th>materialtype</th>\n",
       "      <th>checkoutyear</th>\n",
       "      <th>checkoutmonth</th>\n",
       "      <th>checkouts</th>\n",
       "      <th>title</th>\n",
       "      <th>creator</th>\n",
       "      <th>subjects</th>\n",
       "      <th>publisher</th>\n",
       "      <th>publicationyear</th>\n",
       "    </tr>\n",
       "  </thead>\n",
       "  <tbody>\n",
       "    <tr>\n",
       "      <th>0</th>\n",
       "      <td>Digital</td>\n",
       "      <td>OverDrive</td>\n",
       "      <td>AUDIOBOOK</td>\n",
       "      <td>2019</td>\n",
       "      <td>4</td>\n",
       "      <td>4</td>\n",
       "      <td>The Testament of Mary (Unabridged)</td>\n",
       "      <td>Colm Toibin</td>\n",
       "      <td>Fiction, Literature</td>\n",
       "      <td>Recorded Books, LLC</td>\n",
       "      <td>2015</td>\n",
       "    </tr>\n",
       "    <tr>\n",
       "      <th>1</th>\n",
       "      <td>Digital</td>\n",
       "      <td>OverDrive</td>\n",
       "      <td>AUDIOBOOK</td>\n",
       "      <td>2019</td>\n",
       "      <td>4</td>\n",
       "      <td>7</td>\n",
       "      <td>Hippie (Unabridged)</td>\n",
       "      <td>Paulo Coelho</td>\n",
       "      <td>Fiction, Literature</td>\n",
       "      <td>Books on Tape</td>\n",
       "      <td>2018</td>\n",
       "    </tr>\n",
       "    <tr>\n",
       "      <th>2</th>\n",
       "      <td>Digital</td>\n",
       "      <td>OverDrive</td>\n",
       "      <td>EBOOK</td>\n",
       "      <td>2019</td>\n",
       "      <td>4</td>\n",
       "      <td>14</td>\n",
       "      <td>Six Wakes</td>\n",
       "      <td>Mur Lafferty</td>\n",
       "      <td>Fiction, Science Fiction, Thriller</td>\n",
       "      <td>Hachette Digital, Inc.</td>\n",
       "      <td>2017</td>\n",
       "    </tr>\n",
       "    <tr>\n",
       "      <th>3</th>\n",
       "      <td>Digital</td>\n",
       "      <td>OverDrive</td>\n",
       "      <td>AUDIOBOOK</td>\n",
       "      <td>2019</td>\n",
       "      <td>4</td>\n",
       "      <td>1</td>\n",
       "      <td>Aquarium (Unabridged)</td>\n",
       "      <td>David Vann</td>\n",
       "      <td>Fiction, Literature</td>\n",
       "      <td>Blackstone Audio, Inc.</td>\n",
       "      <td>2015</td>\n",
       "    </tr>\n",
       "    <tr>\n",
       "      <th>4</th>\n",
       "      <td>Digital</td>\n",
       "      <td>OverDrive</td>\n",
       "      <td>EBOOK</td>\n",
       "      <td>2019</td>\n",
       "      <td>4</td>\n",
       "      <td>1</td>\n",
       "      <td>Wolves in the Land of Salmon</td>\n",
       "      <td>David Moskowitz</td>\n",
       "      <td>Nature, Nonfiction</td>\n",
       "      <td>Workman Publishing</td>\n",
       "      <td>2014</td>\n",
       "    </tr>\n",
       "    <tr>\n",
       "      <th>...</th>\n",
       "      <td>...</td>\n",
       "      <td>...</td>\n",
       "      <td>...</td>\n",
       "      <td>...</td>\n",
       "      <td>...</td>\n",
       "      <td>...</td>\n",
       "      <td>...</td>\n",
       "      <td>...</td>\n",
       "      <td>...</td>\n",
       "      <td>...</td>\n",
       "      <td>...</td>\n",
       "    </tr>\n",
       "    <tr>\n",
       "      <th>480133</th>\n",
       "      <td>Digital</td>\n",
       "      <td>OverDrive</td>\n",
       "      <td>AUDIOBOOK</td>\n",
       "      <td>2021</td>\n",
       "      <td>4</td>\n",
       "      <td>1</td>\n",
       "      <td>Reiki Workshop (unabridged)</td>\n",
       "      <td>Philip Permutt</td>\n",
       "      <td>Self-Improvement, Nonfiction, Self Help</td>\n",
       "      <td>Blackstone Audio, Inc.</td>\n",
       "      <td>2013</td>\n",
       "    </tr>\n",
       "    <tr>\n",
       "      <th>480134</th>\n",
       "      <td>Physical</td>\n",
       "      <td>Horizon</td>\n",
       "      <td>BOOK</td>\n",
       "      <td>2021</td>\n",
       "      <td>4</td>\n",
       "      <td>1</td>\n",
       "      <td>Shakespeare : the biography / Peter Ackroyd.</td>\n",
       "      <td>Ackroyd, Peter, 1949-</td>\n",
       "      <td>Shakespeare William 1564 1616, Dramatists Engl...</td>\n",
       "      <td>Anchor Books,</td>\n",
       "      <td>2006.</td>\n",
       "    </tr>\n",
       "    <tr>\n",
       "      <th>480135</th>\n",
       "      <td>Physical</td>\n",
       "      <td>Horizon</td>\n",
       "      <td>BOOK</td>\n",
       "      <td>2021</td>\n",
       "      <td>4</td>\n",
       "      <td>1</td>\n",
       "      <td>The children of Topaz : the story of a Japanes...</td>\n",
       "      <td>Tunnell, Michael O.</td>\n",
       "      <td>Central Utah Relocation Center Juvenile litera...</td>\n",
       "      <td>Holiday House,</td>\n",
       "      <td>[1996]</td>\n",
       "    </tr>\n",
       "    <tr>\n",
       "      <th>480136</th>\n",
       "      <td>Physical</td>\n",
       "      <td>Horizon</td>\n",
       "      <td>BOOK</td>\n",
       "      <td>2021</td>\n",
       "      <td>4</td>\n",
       "      <td>1</td>\n",
       "      <td>Hector's favorite place / Jo Rooks.</td>\n",
       "      <td>Rooks, Jo</td>\n",
       "      <td>Bashfulness Juvenile fiction, Self confidence ...</td>\n",
       "      <td>Magination Press, American Psychological Assoc...</td>\n",
       "      <td>[2018]</td>\n",
       "    </tr>\n",
       "    <tr>\n",
       "      <th>480137</th>\n",
       "      <td>Physical</td>\n",
       "      <td>Horizon</td>\n",
       "      <td>BOOK</td>\n",
       "      <td>2021</td>\n",
       "      <td>4</td>\n",
       "      <td>2</td>\n",
       "      <td>Kit learns a lesson : a school story / by Vale...</td>\n",
       "      <td>Tripp, Valerie, 1951-</td>\n",
       "      <td>Depressions 1929 Juvenile fiction, Schools Fic...</td>\n",
       "      <td>Pleasant Co. Publications,</td>\n",
       "      <td>[2000]</td>\n",
       "    </tr>\n",
       "  </tbody>\n",
       "</table>\n",
       "<p>480138 rows × 11 columns</p>\n",
       "</div>"
      ],
      "text/plain": [
       "       usageclass checkouttype materialtype  checkoutyear  checkoutmonth  \\\n",
       "0         Digital    OverDrive    AUDIOBOOK          2019              4   \n",
       "1         Digital    OverDrive    AUDIOBOOK          2019              4   \n",
       "2         Digital    OverDrive        EBOOK          2019              4   \n",
       "3         Digital    OverDrive    AUDIOBOOK          2019              4   \n",
       "4         Digital    OverDrive        EBOOK          2019              4   \n",
       "...           ...          ...          ...           ...            ...   \n",
       "480133    Digital    OverDrive    AUDIOBOOK          2021              4   \n",
       "480134   Physical      Horizon         BOOK          2021              4   \n",
       "480135   Physical      Horizon         BOOK          2021              4   \n",
       "480136   Physical      Horizon         BOOK          2021              4   \n",
       "480137   Physical      Horizon         BOOK          2021              4   \n",
       "\n",
       "        checkouts                                              title  \\\n",
       "0               4                 The Testament of Mary (Unabridged)   \n",
       "1               7                                Hippie (Unabridged)   \n",
       "2              14                                          Six Wakes   \n",
       "3               1                              Aquarium (Unabridged)   \n",
       "4               1                       Wolves in the Land of Salmon   \n",
       "...           ...                                                ...   \n",
       "480133          1                        Reiki Workshop (unabridged)   \n",
       "480134          1       Shakespeare : the biography / Peter Ackroyd.   \n",
       "480135          1  The children of Topaz : the story of a Japanes...   \n",
       "480136          1                Hector's favorite place / Jo Rooks.   \n",
       "480137          2  Kit learns a lesson : a school story / by Vale...   \n",
       "\n",
       "                      creator  \\\n",
       "0                 Colm Toibin   \n",
       "1                Paulo Coelho   \n",
       "2                Mur Lafferty   \n",
       "3                  David Vann   \n",
       "4             David Moskowitz   \n",
       "...                       ...   \n",
       "480133         Philip Permutt   \n",
       "480134  Ackroyd, Peter, 1949-   \n",
       "480135    Tunnell, Michael O.   \n",
       "480136              Rooks, Jo   \n",
       "480137  Tripp, Valerie, 1951-   \n",
       "\n",
       "                                                 subjects  \\\n",
       "0                                     Fiction, Literature   \n",
       "1                                     Fiction, Literature   \n",
       "2                      Fiction, Science Fiction, Thriller   \n",
       "3                                     Fiction, Literature   \n",
       "4                                      Nature, Nonfiction   \n",
       "...                                                   ...   \n",
       "480133            Self-Improvement, Nonfiction, Self Help   \n",
       "480134  Shakespeare William 1564 1616, Dramatists Engl...   \n",
       "480135  Central Utah Relocation Center Juvenile litera...   \n",
       "480136  Bashfulness Juvenile fiction, Self confidence ...   \n",
       "480137  Depressions 1929 Juvenile fiction, Schools Fic...   \n",
       "\n",
       "                                                publisher publicationyear  \n",
       "0                                     Recorded Books, LLC            2015  \n",
       "1                                           Books on Tape            2018  \n",
       "2                                  Hachette Digital, Inc.            2017  \n",
       "3                                  Blackstone Audio, Inc.            2015  \n",
       "4                                      Workman Publishing            2014  \n",
       "...                                                   ...             ...  \n",
       "480133                             Blackstone Audio, Inc.            2013  \n",
       "480134                                      Anchor Books,           2006.  \n",
       "480135                                     Holiday House,          [1996]  \n",
       "480136  Magination Press, American Psychological Assoc...          [2018]  \n",
       "480137                         Pleasant Co. Publications,          [2000]  \n",
       "\n",
       "[480138 rows x 11 columns]"
      ]
     },
     "execution_count": 4,
     "metadata": {},
     "output_type": "execute_result"
    }
   ],
   "source": [
    "checkouts_df"
   ]
  },
  {
   "cell_type": "code",
   "execution_count": 5,
   "id": "90235b49",
   "metadata": {},
   "outputs": [
    {
     "data": {
      "text/plain": [
       "(480138, 11)"
      ]
     },
     "execution_count": 5,
     "metadata": {},
     "output_type": "execute_result"
    }
   ],
   "source": [
    "checkouts_df.shape"
   ]
  },
  {
   "cell_type": "code",
   "execution_count": 6,
   "id": "f6e7444f",
   "metadata": {},
   "outputs": [
    {
     "data": {
      "text/plain": [
       "array(['Digital', 'Physical'], dtype=object)"
      ]
     },
     "execution_count": 6,
     "metadata": {},
     "output_type": "execute_result"
    }
   ],
   "source": [
    "checkouts_df[\"usageclass\"].unique()"
   ]
  },
  {
   "cell_type": "markdown",
   "id": "d2af9442",
   "metadata": {},
   "source": [
    "### Frage 1: Wurden im April 2020 mehr digitale Medien ausgeliehen als im April 2019?"
   ]
  },
  {
   "cell_type": "code",
   "execution_count": 7,
   "id": "85281152",
   "metadata": {},
   "outputs": [],
   "source": [
    "checkouts_digital_2019_2020_df = checkouts_df[((checkouts_df[\"checkoutyear\"] == 2019)| (checkouts_df[\"checkoutyear\"] == 2020))& (checkouts_df[\"usageclass\"] == \"Digital\")]"
   ]
  },
  {
   "cell_type": "code",
   "execution_count": 8,
   "id": "2a18bd7c",
   "metadata": {},
   "outputs": [
    {
     "data": {
      "text/html": [
       "<div>\n",
       "<style scoped>\n",
       "    .dataframe tbody tr th:only-of-type {\n",
       "        vertical-align: middle;\n",
       "    }\n",
       "\n",
       "    .dataframe tbody tr th {\n",
       "        vertical-align: top;\n",
       "    }\n",
       "\n",
       "    .dataframe thead th {\n",
       "        text-align: right;\n",
       "    }\n",
       "</style>\n",
       "<table border=\"1\" class=\"dataframe\">\n",
       "  <thead>\n",
       "    <tr style=\"text-align: right;\">\n",
       "      <th></th>\n",
       "      <th>usageclass</th>\n",
       "      <th>checkouttype</th>\n",
       "      <th>materialtype</th>\n",
       "      <th>checkoutyear</th>\n",
       "      <th>checkoutmonth</th>\n",
       "      <th>checkouts</th>\n",
       "      <th>title</th>\n",
       "      <th>creator</th>\n",
       "      <th>subjects</th>\n",
       "      <th>publisher</th>\n",
       "      <th>publicationyear</th>\n",
       "    </tr>\n",
       "  </thead>\n",
       "  <tbody>\n",
       "    <tr>\n",
       "      <th>0</th>\n",
       "      <td>Digital</td>\n",
       "      <td>OverDrive</td>\n",
       "      <td>AUDIOBOOK</td>\n",
       "      <td>2019</td>\n",
       "      <td>4</td>\n",
       "      <td>4</td>\n",
       "      <td>The Testament of Mary (Unabridged)</td>\n",
       "      <td>Colm Toibin</td>\n",
       "      <td>Fiction, Literature</td>\n",
       "      <td>Recorded Books, LLC</td>\n",
       "      <td>2015</td>\n",
       "    </tr>\n",
       "    <tr>\n",
       "      <th>1</th>\n",
       "      <td>Digital</td>\n",
       "      <td>OverDrive</td>\n",
       "      <td>AUDIOBOOK</td>\n",
       "      <td>2019</td>\n",
       "      <td>4</td>\n",
       "      <td>7</td>\n",
       "      <td>Hippie (Unabridged)</td>\n",
       "      <td>Paulo Coelho</td>\n",
       "      <td>Fiction, Literature</td>\n",
       "      <td>Books on Tape</td>\n",
       "      <td>2018</td>\n",
       "    </tr>\n",
       "    <tr>\n",
       "      <th>2</th>\n",
       "      <td>Digital</td>\n",
       "      <td>OverDrive</td>\n",
       "      <td>EBOOK</td>\n",
       "      <td>2019</td>\n",
       "      <td>4</td>\n",
       "      <td>14</td>\n",
       "      <td>Six Wakes</td>\n",
       "      <td>Mur Lafferty</td>\n",
       "      <td>Fiction, Science Fiction, Thriller</td>\n",
       "      <td>Hachette Digital, Inc.</td>\n",
       "      <td>2017</td>\n",
       "    </tr>\n",
       "    <tr>\n",
       "      <th>3</th>\n",
       "      <td>Digital</td>\n",
       "      <td>OverDrive</td>\n",
       "      <td>AUDIOBOOK</td>\n",
       "      <td>2019</td>\n",
       "      <td>4</td>\n",
       "      <td>1</td>\n",
       "      <td>Aquarium (Unabridged)</td>\n",
       "      <td>David Vann</td>\n",
       "      <td>Fiction, Literature</td>\n",
       "      <td>Blackstone Audio, Inc.</td>\n",
       "      <td>2015</td>\n",
       "    </tr>\n",
       "    <tr>\n",
       "      <th>4</th>\n",
       "      <td>Digital</td>\n",
       "      <td>OverDrive</td>\n",
       "      <td>EBOOK</td>\n",
       "      <td>2019</td>\n",
       "      <td>4</td>\n",
       "      <td>1</td>\n",
       "      <td>Wolves in the Land of Salmon</td>\n",
       "      <td>David Moskowitz</td>\n",
       "      <td>Nature, Nonfiction</td>\n",
       "      <td>Workman Publishing</td>\n",
       "      <td>2014</td>\n",
       "    </tr>\n",
       "    <tr>\n",
       "      <th>...</th>\n",
       "      <td>...</td>\n",
       "      <td>...</td>\n",
       "      <td>...</td>\n",
       "      <td>...</td>\n",
       "      <td>...</td>\n",
       "      <td>...</td>\n",
       "      <td>...</td>\n",
       "      <td>...</td>\n",
       "      <td>...</td>\n",
       "      <td>...</td>\n",
       "      <td>...</td>\n",
       "    </tr>\n",
       "    <tr>\n",
       "      <th>309846</th>\n",
       "      <td>Digital</td>\n",
       "      <td>OverDrive</td>\n",
       "      <td>EBOOK</td>\n",
       "      <td>2020</td>\n",
       "      <td>4</td>\n",
       "      <td>4</td>\n",
       "      <td>The Black Moth: Historical Romances Series, Bo...</td>\n",
       "      <td>Georgette Heyer</td>\n",
       "      <td>Fiction, Historical Fiction, Literature, Romance</td>\n",
       "      <td>Sourcebooks</td>\n",
       "      <td>2010</td>\n",
       "    </tr>\n",
       "    <tr>\n",
       "      <th>309847</th>\n",
       "      <td>Digital</td>\n",
       "      <td>OverDrive</td>\n",
       "      <td>AUDIOBOOK</td>\n",
       "      <td>2020</td>\n",
       "      <td>4</td>\n",
       "      <td>1</td>\n",
       "      <td>A Death in the Family (Unabridged)</td>\n",
       "      <td>James Agee</td>\n",
       "      <td>Classic Literature, Fiction</td>\n",
       "      <td>Blackstone Audio, Inc.</td>\n",
       "      <td>2012</td>\n",
       "    </tr>\n",
       "    <tr>\n",
       "      <th>309848</th>\n",
       "      <td>Digital</td>\n",
       "      <td>OverDrive</td>\n",
       "      <td>EBOOK</td>\n",
       "      <td>2020</td>\n",
       "      <td>4</td>\n",
       "      <td>2</td>\n",
       "      <td>My Fate According to the Butterfly</td>\n",
       "      <td>Gail Villanueva</td>\n",
       "      <td>Juvenile Fiction, Juvenile Literature</td>\n",
       "      <td>Scholastic, Inc. (US)</td>\n",
       "      <td>2019</td>\n",
       "    </tr>\n",
       "    <tr>\n",
       "      <th>309849</th>\n",
       "      <td>Digital</td>\n",
       "      <td>OverDrive</td>\n",
       "      <td>AUDIOBOOK</td>\n",
       "      <td>2020</td>\n",
       "      <td>4</td>\n",
       "      <td>17</td>\n",
       "      <td>The Second Sleep: A novel (unabridged) (Unabri...</td>\n",
       "      <td>Robert Harris</td>\n",
       "      <td>Fiction, Suspense, Thriller</td>\n",
       "      <td>Books on Tape</td>\n",
       "      <td>2019</td>\n",
       "    </tr>\n",
       "    <tr>\n",
       "      <th>309850</th>\n",
       "      <td>Digital</td>\n",
       "      <td>OverDrive</td>\n",
       "      <td>EBOOK</td>\n",
       "      <td>2020</td>\n",
       "      <td>4</td>\n",
       "      <td>3</td>\n",
       "      <td>A Dilly of a Death: China Bayles Mystery Serie...</td>\n",
       "      <td>Susan Wittig Albert</td>\n",
       "      <td>Fiction, Mystery</td>\n",
       "      <td>Penguin Group (USA), Inc.</td>\n",
       "      <td>2011</td>\n",
       "    </tr>\n",
       "  </tbody>\n",
       "</table>\n",
       "<p>170162 rows × 11 columns</p>\n",
       "</div>"
      ],
      "text/plain": [
       "       usageclass checkouttype materialtype  checkoutyear  checkoutmonth  \\\n",
       "0         Digital    OverDrive    AUDIOBOOK          2019              4   \n",
       "1         Digital    OverDrive    AUDIOBOOK          2019              4   \n",
       "2         Digital    OverDrive        EBOOK          2019              4   \n",
       "3         Digital    OverDrive    AUDIOBOOK          2019              4   \n",
       "4         Digital    OverDrive        EBOOK          2019              4   \n",
       "...           ...          ...          ...           ...            ...   \n",
       "309846    Digital    OverDrive        EBOOK          2020              4   \n",
       "309847    Digital    OverDrive    AUDIOBOOK          2020              4   \n",
       "309848    Digital    OverDrive        EBOOK          2020              4   \n",
       "309849    Digital    OverDrive    AUDIOBOOK          2020              4   \n",
       "309850    Digital    OverDrive        EBOOK          2020              4   \n",
       "\n",
       "        checkouts                                              title  \\\n",
       "0               4                 The Testament of Mary (Unabridged)   \n",
       "1               7                                Hippie (Unabridged)   \n",
       "2              14                                          Six Wakes   \n",
       "3               1                              Aquarium (Unabridged)   \n",
       "4               1                       Wolves in the Land of Salmon   \n",
       "...           ...                                                ...   \n",
       "309846          4  The Black Moth: Historical Romances Series, Bo...   \n",
       "309847          1                 A Death in the Family (Unabridged)   \n",
       "309848          2                 My Fate According to the Butterfly   \n",
       "309849         17  The Second Sleep: A novel (unabridged) (Unabri...   \n",
       "309850          3  A Dilly of a Death: China Bayles Mystery Serie...   \n",
       "\n",
       "                    creator                                          subjects  \\\n",
       "0               Colm Toibin                               Fiction, Literature   \n",
       "1              Paulo Coelho                               Fiction, Literature   \n",
       "2              Mur Lafferty                Fiction, Science Fiction, Thriller   \n",
       "3                David Vann                               Fiction, Literature   \n",
       "4           David Moskowitz                                Nature, Nonfiction   \n",
       "...                     ...                                               ...   \n",
       "309846      Georgette Heyer  Fiction, Historical Fiction, Literature, Romance   \n",
       "309847           James Agee                       Classic Literature, Fiction   \n",
       "309848      Gail Villanueva             Juvenile Fiction, Juvenile Literature   \n",
       "309849        Robert Harris                       Fiction, Suspense, Thriller   \n",
       "309850  Susan Wittig Albert                                  Fiction, Mystery   \n",
       "\n",
       "                        publisher publicationyear  \n",
       "0             Recorded Books, LLC            2015  \n",
       "1                   Books on Tape            2018  \n",
       "2          Hachette Digital, Inc.            2017  \n",
       "3          Blackstone Audio, Inc.            2015  \n",
       "4              Workman Publishing            2014  \n",
       "...                           ...             ...  \n",
       "309846                Sourcebooks            2010  \n",
       "309847     Blackstone Audio, Inc.            2012  \n",
       "309848      Scholastic, Inc. (US)            2019  \n",
       "309849              Books on Tape            2019  \n",
       "309850  Penguin Group (USA), Inc.            2011  \n",
       "\n",
       "[170162 rows x 11 columns]"
      ]
     },
     "execution_count": 8,
     "metadata": {},
     "output_type": "execute_result"
    }
   ],
   "source": [
    "checkouts_digital_2019_2020_df"
   ]
  },
  {
   "cell_type": "code",
   "execution_count": 9,
   "id": "066c9922",
   "metadata": {},
   "outputs": [
    {
     "data": {
      "text/plain": [
       "2020    93594\n",
       "2019    76568\n",
       "Name: checkoutyear, dtype: int64"
      ]
     },
     "execution_count": 9,
     "metadata": {},
     "output_type": "execute_result"
    }
   ],
   "source": [
    "checkouts_digital_2019_2020_df[\"checkoutyear\"].value_counts()"
   ]
  },
  {
   "cell_type": "code",
   "execution_count": 10,
   "id": "ee516502",
   "metadata": {},
   "outputs": [],
   "source": [
    "%matplotlib inline"
   ]
  },
  {
   "cell_type": "code",
   "execution_count": 11,
   "id": "74051baa",
   "metadata": {},
   "outputs": [
    {
     "data": {
      "text/plain": [
       "<AxesSubplot:>"
      ]
     },
     "execution_count": 11,
     "metadata": {},
     "output_type": "execute_result"
    },
    {
     "data": {
      "image/png": "[encoded data removed]",
      "text/plain": [
       "<Figure size 432x288 with 1 Axes>"
      ]
     },
     "metadata": {
      "needs_background": "light"
     },
     "output_type": "display_data"
    }
   ],
   "source": [
    "checkouts_digital_2019_2020_df[\"checkoutyear\"].value_counts().plot(kind=\"bar\")"
   ]
  },
  {
   "cell_type": "code",
   "execution_count": 12,
   "id": "962f04fb",
   "metadata": {},
   "outputs": [
    {
     "data": {
      "text/plain": [
       "1894"
      ]
     },
     "execution_count": 12,
     "metadata": {},
     "output_type": "execute_result"
    }
   ],
   "source": [
    "checkouts_digital_2019_2020_df[\"checkouts\"].max()"
   ]
  },
  {
   "cell_type": "code",
   "execution_count": 13,
   "id": "7208a0d0",
   "metadata": {},
   "outputs": [
    {
     "data": {
      "text/plain": [
       "1"
      ]
     },
     "execution_count": 13,
     "metadata": {},
     "output_type": "execute_result"
    }
   ],
   "source": [
    "checkouts_digital_2019_2020_df[\"checkouts\"].min()"
   ]
  },
  {
   "cell_type": "raw",
   "id": "fa56d248",
   "metadata": {},
   "source": [
    "Die Anzahl der ausgeliehenen digitalen Medien war im April 2020 grösser als im Vergleichsmonat 2019. Viele der Medien wurden jedoch mehr als einmal ausgeliehen."
   ]
  },
  {
   "cell_type": "markdown",
   "id": "f22e3364",
   "metadata": {},
   "source": [
    "### Frage 2: War das Total der Ausleihen für digitale Medien im April 2020 ebenfalls grösser als im April 2019?"
   ]
  },
  {
   "cell_type": "code",
   "execution_count": 14,
   "id": "b6610057",
   "metadata": {},
   "outputs": [
    {
     "data": {
      "text/plain": [
       "623938"
      ]
     },
     "execution_count": 14,
     "metadata": {},
     "output_type": "execute_result"
    }
   ],
   "source": [
    "checkouts_digital_2019_2020_df[\"checkouts\"].sum()"
   ]
  },
  {
   "cell_type": "code",
   "execution_count": 15,
   "id": "a319a573",
   "metadata": {},
   "outputs": [],
   "source": [
    "checkouts_digital_total_df = checkouts_digital_2019_2020_df.groupby(\"checkoutyear\").sum()"
   ]
  },
  {
   "cell_type": "code",
   "execution_count": 16,
   "id": "d59f7d56",
   "metadata": {},
   "outputs": [
    {
     "data": {
      "text/html": [
       "<div>\n",
       "<style scoped>\n",
       "    .dataframe tbody tr th:only-of-type {\n",
       "        vertical-align: middle;\n",
       "    }\n",
       "\n",
       "    .dataframe tbody tr th {\n",
       "        vertical-align: top;\n",
       "    }\n",
       "\n",
       "    .dataframe thead th {\n",
       "        text-align: right;\n",
       "    }\n",
       "</style>\n",
       "<table border=\"1\" class=\"dataframe\">\n",
       "  <thead>\n",
       "    <tr style=\"text-align: right;\">\n",
       "      <th></th>\n",
       "      <th>checkoutmonth</th>\n",
       "      <th>checkouts</th>\n",
       "    </tr>\n",
       "    <tr>\n",
       "      <th>checkoutyear</th>\n",
       "      <th></th>\n",
       "      <th></th>\n",
       "    </tr>\n",
       "  </thead>\n",
       "  <tbody>\n",
       "    <tr>\n",
       "      <th>2019</th>\n",
       "      <td>306272</td>\n",
       "      <td>269466</td>\n",
       "    </tr>\n",
       "    <tr>\n",
       "      <th>2020</th>\n",
       "      <td>374376</td>\n",
       "      <td>354472</td>\n",
       "    </tr>\n",
       "  </tbody>\n",
       "</table>\n",
       "</div>"
      ],
      "text/plain": [
       "              checkoutmonth  checkouts\n",
       "checkoutyear                          \n",
       "2019                 306272     269466\n",
       "2020                 374376     354472"
      ]
     },
     "execution_count": 16,
     "metadata": {},
     "output_type": "execute_result"
    }
   ],
   "source": [
    "checkouts_digital_total_df"
   ]
  },
  {
   "cell_type": "code",
   "execution_count": 17,
   "id": "62a038b8",
   "metadata": {},
   "outputs": [
    {
     "data": {
      "text/plain": [
       "623938"
      ]
     },
     "execution_count": 17,
     "metadata": {},
     "output_type": "execute_result"
    }
   ],
   "source": [
    "269466 + 354472"
   ]
  },
  {
   "cell_type": "code",
   "execution_count": 18,
   "id": "83626194",
   "metadata": {},
   "outputs": [],
   "source": [
    "checkouts_digital_total_df.drop(\"checkoutmonth\", axis=1)\n",
    "del checkouts_digital_total_df[\"checkoutmonth\"]"
   ]
  },
  {
   "cell_type": "code",
   "execution_count": 19,
   "id": "9575cae7",
   "metadata": {},
   "outputs": [
    {
     "data": {
      "text/html": [
       "<div>\n",
       "<style scoped>\n",
       "    .dataframe tbody tr th:only-of-type {\n",
       "        vertical-align: middle;\n",
       "    }\n",
       "\n",
       "    .dataframe tbody tr th {\n",
       "        vertical-align: top;\n",
       "    }\n",
       "\n",
       "    .dataframe thead th {\n",
       "        text-align: right;\n",
       "    }\n",
       "</style>\n",
       "<table border=\"1\" class=\"dataframe\">\n",
       "  <thead>\n",
       "    <tr style=\"text-align: right;\">\n",
       "      <th></th>\n",
       "      <th>checkouts</th>\n",
       "    </tr>\n",
       "    <tr>\n",
       "      <th>checkoutyear</th>\n",
       "      <th></th>\n",
       "    </tr>\n",
       "  </thead>\n",
       "  <tbody>\n",
       "    <tr>\n",
       "      <th>2019</th>\n",
       "      <td>269466</td>\n",
       "    </tr>\n",
       "    <tr>\n",
       "      <th>2020</th>\n",
       "      <td>354472</td>\n",
       "    </tr>\n",
       "  </tbody>\n",
       "</table>\n",
       "</div>"
      ],
      "text/plain": [
       "              checkouts\n",
       "checkoutyear           \n",
       "2019             269466\n",
       "2020             354472"
      ]
     },
     "execution_count": 19,
     "metadata": {},
     "output_type": "execute_result"
    }
   ],
   "source": [
    "checkouts_digital_total_df"
   ]
  },
  {
   "cell_type": "code",
   "execution_count": 20,
   "id": "96e1ab59",
   "metadata": {},
   "outputs": [
    {
     "data": {
      "text/plain": [
       "<AxesSubplot:xlabel='checkoutyear'>"
      ]
     },
     "execution_count": 20,
     "metadata": {},
     "output_type": "execute_result"
    },
    {
     "data": {
      "image/png": "[encoded data removed]",
      "text/plain": [
       "<Figure size 432x288 with 1 Axes>"
      ]
     },
     "metadata": {
      "needs_background": "light"
     },
     "output_type": "display_data"
    }
   ],
   "source": [
    "checkouts_digital_total_df.plot(kind=\"bar\", color=\"green\")"
   ]
  },
  {
   "cell_type": "markdown",
   "id": "7a41fce5",
   "metadata": {},
   "source": [
    "### Frage 3: Welches waren die beliebtesten Themen im April 2020?"
   ]
  },
  {
   "cell_type": "code",
   "execution_count": 21,
   "id": "1f663c90",
   "metadata": {},
   "outputs": [],
   "source": [
    "checkouts_2020_df = checkouts_df[checkouts_df[\"checkoutyear\"] == 2020]"
   ]
  },
  {
   "cell_type": "code",
   "execution_count": 22,
   "id": "afe3fd7f",
   "metadata": {},
   "outputs": [
    {
     "data": {
      "text/html": [
       "<div>\n",
       "<style scoped>\n",
       "    .dataframe tbody tr th:only-of-type {\n",
       "        vertical-align: middle;\n",
       "    }\n",
       "\n",
       "    .dataframe tbody tr th {\n",
       "        vertical-align: top;\n",
       "    }\n",
       "\n",
       "    .dataframe thead th {\n",
       "        text-align: right;\n",
       "    }\n",
       "</style>\n",
       "<table border=\"1\" class=\"dataframe\">\n",
       "  <thead>\n",
       "    <tr style=\"text-align: right;\">\n",
       "      <th></th>\n",
       "      <th>usageclass</th>\n",
       "      <th>checkouttype</th>\n",
       "      <th>materialtype</th>\n",
       "      <th>checkoutyear</th>\n",
       "      <th>checkoutmonth</th>\n",
       "      <th>checkouts</th>\n",
       "      <th>title</th>\n",
       "      <th>creator</th>\n",
       "      <th>subjects</th>\n",
       "      <th>publisher</th>\n",
       "      <th>publicationyear</th>\n",
       "    </tr>\n",
       "  </thead>\n",
       "  <tbody>\n",
       "    <tr>\n",
       "      <th>216180</th>\n",
       "      <td>Digital</td>\n",
       "      <td>OverDrive</td>\n",
       "      <td>EBOOK</td>\n",
       "      <td>2020</td>\n",
       "      <td>4</td>\n",
       "      <td>2</td>\n",
       "      <td>Nighttime Symphony</td>\n",
       "      <td>Timbaland</td>\n",
       "      <td>Juvenile Fiction, Picture Book Fiction</td>\n",
       "      <td>Simon &amp; Schuster, Inc.</td>\n",
       "      <td>2019</td>\n",
       "    </tr>\n",
       "    <tr>\n",
       "      <th>216181</th>\n",
       "      <td>Digital</td>\n",
       "      <td>OverDrive</td>\n",
       "      <td>EBOOK</td>\n",
       "      <td>2020</td>\n",
       "      <td>4</td>\n",
       "      <td>2</td>\n",
       "      <td>Cold Kill</td>\n",
       "      <td>Rennie Airth</td>\n",
       "      <td>Fiction, Mystery, Thriller</td>\n",
       "      <td>Severn House Publishers Ltd</td>\n",
       "      <td>2020</td>\n",
       "    </tr>\n",
       "    <tr>\n",
       "      <th>216182</th>\n",
       "      <td>Digital</td>\n",
       "      <td>OverDrive</td>\n",
       "      <td>AUDIOBOOK</td>\n",
       "      <td>2020</td>\n",
       "      <td>4</td>\n",
       "      <td>1</td>\n",
       "      <td>The Choice (Unabridged)</td>\n",
       "      <td>Nicholas Sparks</td>\n",
       "      <td>Fiction, Literature</td>\n",
       "      <td>Books on Tape</td>\n",
       "      <td>2007</td>\n",
       "    </tr>\n",
       "    <tr>\n",
       "      <th>216183</th>\n",
       "      <td>Digital</td>\n",
       "      <td>OverDrive</td>\n",
       "      <td>EBOOK</td>\n",
       "      <td>2020</td>\n",
       "      <td>4</td>\n",
       "      <td>3</td>\n",
       "      <td>The Master Key System</td>\n",
       "      <td>Charles F. Haanel</td>\n",
       "      <td>New Age, Nonfiction, Self-Improvement</td>\n",
       "      <td>Duke Classics</td>\n",
       "      <td>2020</td>\n",
       "    </tr>\n",
       "    <tr>\n",
       "      <th>216184</th>\n",
       "      <td>Digital</td>\n",
       "      <td>OverDrive</td>\n",
       "      <td>EBOOK</td>\n",
       "      <td>2020</td>\n",
       "      <td>4</td>\n",
       "      <td>12</td>\n",
       "      <td>The Doughnut King</td>\n",
       "      <td>Jessie Janowitz</td>\n",
       "      <td>Juvenile Fiction, Juvenile Literature</td>\n",
       "      <td>Sourcebooks</td>\n",
       "      <td>2019</td>\n",
       "    </tr>\n",
       "    <tr>\n",
       "      <th>...</th>\n",
       "      <td>...</td>\n",
       "      <td>...</td>\n",
       "      <td>...</td>\n",
       "      <td>...</td>\n",
       "      <td>...</td>\n",
       "      <td>...</td>\n",
       "      <td>...</td>\n",
       "      <td>...</td>\n",
       "      <td>...</td>\n",
       "      <td>...</td>\n",
       "      <td>...</td>\n",
       "    </tr>\n",
       "    <tr>\n",
       "      <th>309846</th>\n",
       "      <td>Digital</td>\n",
       "      <td>OverDrive</td>\n",
       "      <td>EBOOK</td>\n",
       "      <td>2020</td>\n",
       "      <td>4</td>\n",
       "      <td>4</td>\n",
       "      <td>The Black Moth: Historical Romances Series, Bo...</td>\n",
       "      <td>Georgette Heyer</td>\n",
       "      <td>Fiction, Historical Fiction, Literature, Romance</td>\n",
       "      <td>Sourcebooks</td>\n",
       "      <td>2010</td>\n",
       "    </tr>\n",
       "    <tr>\n",
       "      <th>309847</th>\n",
       "      <td>Digital</td>\n",
       "      <td>OverDrive</td>\n",
       "      <td>AUDIOBOOK</td>\n",
       "      <td>2020</td>\n",
       "      <td>4</td>\n",
       "      <td>1</td>\n",
       "      <td>A Death in the Family (Unabridged)</td>\n",
       "      <td>James Agee</td>\n",
       "      <td>Classic Literature, Fiction</td>\n",
       "      <td>Blackstone Audio, Inc.</td>\n",
       "      <td>2012</td>\n",
       "    </tr>\n",
       "    <tr>\n",
       "      <th>309848</th>\n",
       "      <td>Digital</td>\n",
       "      <td>OverDrive</td>\n",
       "      <td>EBOOK</td>\n",
       "      <td>2020</td>\n",
       "      <td>4</td>\n",
       "      <td>2</td>\n",
       "      <td>My Fate According to the Butterfly</td>\n",
       "      <td>Gail Villanueva</td>\n",
       "      <td>Juvenile Fiction, Juvenile Literature</td>\n",
       "      <td>Scholastic, Inc. (US)</td>\n",
       "      <td>2019</td>\n",
       "    </tr>\n",
       "    <tr>\n",
       "      <th>309849</th>\n",
       "      <td>Digital</td>\n",
       "      <td>OverDrive</td>\n",
       "      <td>AUDIOBOOK</td>\n",
       "      <td>2020</td>\n",
       "      <td>4</td>\n",
       "      <td>17</td>\n",
       "      <td>The Second Sleep: A novel (unabridged) (Unabri...</td>\n",
       "      <td>Robert Harris</td>\n",
       "      <td>Fiction, Suspense, Thriller</td>\n",
       "      <td>Books on Tape</td>\n",
       "      <td>2019</td>\n",
       "    </tr>\n",
       "    <tr>\n",
       "      <th>309850</th>\n",
       "      <td>Digital</td>\n",
       "      <td>OverDrive</td>\n",
       "      <td>EBOOK</td>\n",
       "      <td>2020</td>\n",
       "      <td>4</td>\n",
       "      <td>3</td>\n",
       "      <td>A Dilly of a Death: China Bayles Mystery Serie...</td>\n",
       "      <td>Susan Wittig Albert</td>\n",
       "      <td>Fiction, Mystery</td>\n",
       "      <td>Penguin Group (USA), Inc.</td>\n",
       "      <td>2011</td>\n",
       "    </tr>\n",
       "  </tbody>\n",
       "</table>\n",
       "<p>93671 rows × 11 columns</p>\n",
       "</div>"
      ],
      "text/plain": [
       "       usageclass checkouttype materialtype  checkoutyear  checkoutmonth  \\\n",
       "216180    Digital    OverDrive        EBOOK          2020              4   \n",
       "216181    Digital    OverDrive        EBOOK          2020              4   \n",
       "216182    Digital    OverDrive    AUDIOBOOK          2020              4   \n",
       "216183    Digital    OverDrive        EBOOK          2020              4   \n",
       "216184    Digital    OverDrive        EBOOK          2020              4   \n",
       "...           ...          ...          ...           ...            ...   \n",
       "309846    Digital    OverDrive        EBOOK          2020              4   \n",
       "309847    Digital    OverDrive    AUDIOBOOK          2020              4   \n",
       "309848    Digital    OverDrive        EBOOK          2020              4   \n",
       "309849    Digital    OverDrive    AUDIOBOOK          2020              4   \n",
       "309850    Digital    OverDrive        EBOOK          2020              4   \n",
       "\n",
       "        checkouts                                              title  \\\n",
       "216180          2                                 Nighttime Symphony   \n",
       "216181          2                                          Cold Kill   \n",
       "216182          1                            The Choice (Unabridged)   \n",
       "216183          3                              The Master Key System   \n",
       "216184         12                                  The Doughnut King   \n",
       "...           ...                                                ...   \n",
       "309846          4  The Black Moth: Historical Romances Series, Bo...   \n",
       "309847          1                 A Death in the Family (Unabridged)   \n",
       "309848          2                 My Fate According to the Butterfly   \n",
       "309849         17  The Second Sleep: A novel (unabridged) (Unabri...   \n",
       "309850          3  A Dilly of a Death: China Bayles Mystery Serie...   \n",
       "\n",
       "                    creator                                          subjects  \\\n",
       "216180            Timbaland            Juvenile Fiction, Picture Book Fiction   \n",
       "216181         Rennie Airth                        Fiction, Mystery, Thriller   \n",
       "216182      Nicholas Sparks                               Fiction, Literature   \n",
       "216183    Charles F. Haanel             New Age, Nonfiction, Self-Improvement   \n",
       "216184      Jessie Janowitz             Juvenile Fiction, Juvenile Literature   \n",
       "...                     ...                                               ...   \n",
       "309846      Georgette Heyer  Fiction, Historical Fiction, Literature, Romance   \n",
       "309847           James Agee                       Classic Literature, Fiction   \n",
       "309848      Gail Villanueva             Juvenile Fiction, Juvenile Literature   \n",
       "309849        Robert Harris                       Fiction, Suspense, Thriller   \n",
       "309850  Susan Wittig Albert                                  Fiction, Mystery   \n",
       "\n",
       "                          publisher publicationyear  \n",
       "216180       Simon & Schuster, Inc.            2019  \n",
       "216181  Severn House Publishers Ltd            2020  \n",
       "216182                Books on Tape            2007  \n",
       "216183                Duke Classics            2020  \n",
       "216184                  Sourcebooks            2019  \n",
       "...                             ...             ...  \n",
       "309846                  Sourcebooks            2010  \n",
       "309847       Blackstone Audio, Inc.            2012  \n",
       "309848        Scholastic, Inc. (US)            2019  \n",
       "309849                Books on Tape            2019  \n",
       "309850    Penguin Group (USA), Inc.            2011  \n",
       "\n",
       "[93671 rows x 11 columns]"
      ]
     },
     "execution_count": 22,
     "metadata": {},
     "output_type": "execute_result"
    }
   ],
   "source": [
    "checkouts_2020_df"
   ]
  },
  {
   "cell_type": "code",
   "execution_count": 23,
   "id": "1e92a372",
   "metadata": {},
   "outputs": [
    {
     "data": {
      "text/plain": [
       "(93671, 11)"
      ]
     },
     "execution_count": 23,
     "metadata": {},
     "output_type": "execute_result"
    }
   ],
   "source": [
    "checkouts_2020_df.shape"
   ]
  },
  {
   "cell_type": "code",
   "execution_count": 24,
   "id": "fa1e3abb",
   "metadata": {
    "scrolled": true
   },
   "outputs": [
    {
     "data": {
      "text/plain": [
       "array(['Juvenile Fiction, Picture Book Fiction',\n",
       "       'Fiction, Mystery, Thriller', 'Fiction, Literature', ...,\n",
       "       'Criticism, Nonfiction',\n",
       "       'Juvenile Fiction, Juvenile Literature, Mystery, Picture Book Fiction',\n",
       "       'Art, Nonfiction, Religion & Spirituality'], dtype=object)"
      ]
     },
     "execution_count": 24,
     "metadata": {},
     "output_type": "execute_result"
    }
   ],
   "source": [
    "checkouts_2020_df[\"subjects\"].unique()"
   ]
  },
  {
   "cell_type": "code",
   "execution_count": 25,
   "id": "f4911dc3",
   "metadata": {
    "scrolled": true
   },
   "outputs": [
    {
     "data": {
      "text/plain": [
       "Fiction, Literature                                           4863\n",
       "Fiction, Mystery                                              4298\n",
       "Juvenile Fiction, Juvenile Literature                         3577\n",
       "Fiction, Romance                                              2148\n",
       "Fiction, Historical Fiction, Romance                          1767\n",
       "                                                              ... \n",
       "Judaica, Nonfiction, Religion & Spirituality                     1\n",
       "Classic Literature, Drama, Fiction, Romance                      1\n",
       "History, Law, Sociology, Young Adult Nonfiction                  1\n",
       "Biography & Autobiography, Nonfiction, Politics, Reference       1\n",
       "Art, Nonfiction, Religion & Spirituality                         1\n",
       "Name: subjects, Length: 4413, dtype: int64"
      ]
     },
     "execution_count": 25,
     "metadata": {},
     "output_type": "execute_result"
    }
   ],
   "source": [
    "checkouts_2020_df[\"subjects\"].value_counts()"
   ]
  },
  {
   "cell_type": "code",
   "execution_count": 26,
   "id": "5f150485",
   "metadata": {},
   "outputs": [
    {
     "data": {
      "text/plain": [
       "Fiction, Literature                                           0.051917\n",
       "Fiction, Mystery                                              0.045885\n",
       "Juvenile Fiction, Juvenile Literature                         0.038188\n",
       "Fiction, Romance                                              0.022932\n",
       "Fiction, Historical Fiction, Romance                          0.018864\n",
       "                                                                ...   \n",
       "Judaica, Nonfiction, Religion & Spirituality                  0.000011\n",
       "Classic Literature, Drama, Fiction, Romance                   0.000011\n",
       "History, Law, Sociology, Young Adult Nonfiction               0.000011\n",
       "Biography & Autobiography, Nonfiction, Politics, Reference    0.000011\n",
       "Art, Nonfiction, Religion & Spirituality                      0.000011\n",
       "Name: subjects, Length: 4413, dtype: float64"
      ]
     },
     "execution_count": 26,
     "metadata": {},
     "output_type": "execute_result"
    }
   ],
   "source": [
    "checkouts_2020_df[\"subjects\"].value_counts(normalize=True)"
   ]
  },
  {
   "cell_type": "markdown",
   "id": "b1a0e705",
   "metadata": {},
   "source": [
    "Die Datenanalyse ergibt 4413 verschiedene subjects (bzw. Themengruppen).Bedingt durch die hohe Anzahl an unterschiedlichen subjects, ist der prozentuale Anteil der einzelnen subjects gemessen an allen ausgeliehenen subjects sehr gering. Eine graphische Darstellung aller ausgegeben subjects ist daher wenig sinnvoll (bzw. würde meinen Rechner wohl auch überfordern). Ich werde daher nur die zehn am häufigsten ausgeliehenen subjects zueinander in Beziehung stellen."
   ]
  },
  {
   "cell_type": "code",
   "execution_count": 27,
   "id": "658374d5",
   "metadata": {},
   "outputs": [],
   "source": [
    "checkouts_2020_most_df = checkouts_2020_df[\"subjects\"].value_counts()[:10]"
   ]
  },
  {
   "cell_type": "code",
   "execution_count": 28,
   "id": "ded23b92",
   "metadata": {},
   "outputs": [
    {
     "data": {
      "text/plain": [
       "Fiction, Literature                       4863\n",
       "Fiction, Mystery                          4298\n",
       "Juvenile Fiction, Juvenile Literature     3577\n",
       "Fiction, Romance                          2148\n",
       "Fiction, Historical Fiction, Romance      1767\n",
       "Cooking & Food, Nonfiction                1517\n",
       "Fiction, Mystery, Suspense, Thriller      1462\n",
       "Fantasy, Fiction                          1352\n",
       "Fiction, Science Fiction                  1265\n",
       "Juvenile Fiction, Picture Book Fiction    1241\n",
       "Name: subjects, dtype: int64"
      ]
     },
     "execution_count": 28,
     "metadata": {},
     "output_type": "execute_result"
    }
   ],
   "source": [
    "checkouts_2020_most_df"
   ]
  },
  {
   "cell_type": "code",
   "execution_count": 29,
   "id": "52aa135d",
   "metadata": {},
   "outputs": [
    {
     "data": {
      "text/html": [
       "<div>\n",
       "<style scoped>\n",
       "    .dataframe tbody tr th:only-of-type {\n",
       "        vertical-align: middle;\n",
       "    }\n",
       "\n",
       "    .dataframe tbody tr th {\n",
       "        vertical-align: top;\n",
       "    }\n",
       "\n",
       "    .dataframe thead th {\n",
       "        text-align: right;\n",
       "    }\n",
       "</style>\n",
       "<table border=\"1\" class=\"dataframe\">\n",
       "  <thead>\n",
       "    <tr style=\"text-align: right;\">\n",
       "      <th></th>\n",
       "      <th>subjects</th>\n",
       "    </tr>\n",
       "  </thead>\n",
       "  <tbody>\n",
       "    <tr>\n",
       "      <th>Fiction, Literature</th>\n",
       "      <td>4863</td>\n",
       "    </tr>\n",
       "    <tr>\n",
       "      <th>Fiction, Mystery</th>\n",
       "      <td>4298</td>\n",
       "    </tr>\n",
       "    <tr>\n",
       "      <th>Juvenile Fiction, Juvenile Literature</th>\n",
       "      <td>3577</td>\n",
       "    </tr>\n",
       "    <tr>\n",
       "      <th>Fiction, Romance</th>\n",
       "      <td>2148</td>\n",
       "    </tr>\n",
       "    <tr>\n",
       "      <th>Fiction, Historical Fiction, Romance</th>\n",
       "      <td>1767</td>\n",
       "    </tr>\n",
       "    <tr>\n",
       "      <th>Cooking &amp; Food, Nonfiction</th>\n",
       "      <td>1517</td>\n",
       "    </tr>\n",
       "    <tr>\n",
       "      <th>Fiction, Mystery, Suspense, Thriller</th>\n",
       "      <td>1462</td>\n",
       "    </tr>\n",
       "    <tr>\n",
       "      <th>Fantasy, Fiction</th>\n",
       "      <td>1352</td>\n",
       "    </tr>\n",
       "    <tr>\n",
       "      <th>Fiction, Science Fiction</th>\n",
       "      <td>1265</td>\n",
       "    </tr>\n",
       "    <tr>\n",
       "      <th>Juvenile Fiction, Picture Book Fiction</th>\n",
       "      <td>1241</td>\n",
       "    </tr>\n",
       "  </tbody>\n",
       "</table>\n",
       "</div>"
      ],
      "text/plain": [
       "                                        subjects\n",
       "Fiction, Literature                         4863\n",
       "Fiction, Mystery                            4298\n",
       "Juvenile Fiction, Juvenile Literature       3577\n",
       "Fiction, Romance                            2148\n",
       "Fiction, Historical Fiction, Romance        1767\n",
       "Cooking & Food, Nonfiction                  1517\n",
       "Fiction, Mystery, Suspense, Thriller        1462\n",
       "Fantasy, Fiction                            1352\n",
       "Fiction, Science Fiction                    1265\n",
       "Juvenile Fiction, Picture Book Fiction      1241"
      ]
     },
     "execution_count": 29,
     "metadata": {},
     "output_type": "execute_result"
    }
   ],
   "source": [
    "checkouts_2020_most_df.to_frame()"
   ]
  },
  {
   "cell_type": "code",
   "execution_count": 30,
   "id": "dfe93b39",
   "metadata": {},
   "outputs": [
    {
     "data": {
      "text/plain": [
       "<AxesSubplot:ylabel='subjects'>"
      ]
     },
     "execution_count": 30,
     "metadata": {},
     "output_type": "execute_result"
    },
    {
     "data": {
      "image/png": "[encoded data removed]",
      "text/plain": [
       "<Figure size 432x288 with 1 Axes>"
      ]
     },
     "metadata": {},
     "output_type": "display_data"
    }
   ],
   "source": [
    "checkouts_2020_most_df.plot(kind=\"pie\")"
   ]
  }
 ],
 "metadata": {
  "kernelspec": {
   "display_name": "Python 3 (ipykernel)",
   "language": "python",
   "name": "python3"
  },
  "language_info": {
   "codemirror_mode": {
    "name": "ipython",
    "version": 3
   },
   "file_extension": ".py",
   "mimetype": "text/x-python",
   "name": "python",
   "nbconvert_exporter": "python",
   "pygments_lexer": "ipython3",
   "version": "3.9.7"
  }
 },
 "nbformat": 4,
 "nbformat_minor": 5
}
